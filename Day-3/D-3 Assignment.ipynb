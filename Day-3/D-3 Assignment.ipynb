{
 "cells": [
  {
   "cell_type": "markdown",
   "metadata": {},
   "source": [
    "# Question 1 :\n",
    "Write a program to subtract two complex numbers in Python."
   ]
  },
  {
   "cell_type": "code",
   "execution_count": 15,
   "metadata": {},
   "outputs": [
    {
     "name": "stdout",
     "output_type": "stream",
     "text": [
      "subtraction is= (3+2j)\n"
     ]
    }
   ],
   "source": [
    "a=2+1j\n",
    "b=5+3j\n",
    "print(\"subtraction is=\",b-a)"
   ]
  },
  {
   "cell_type": "markdown",
   "metadata": {},
   "source": [
    "# Question 2 :\n",
    "Write a program to find the fourth root of a number."
   ]
  },
  {
   "cell_type": "code",
   "execution_count": 26,
   "metadata": {},
   "outputs": [
    {
     "name": "stdout",
     "output_type": "stream",
     "text": [
      "Enter no:12\n",
      "fourth root of 12 = 1.8612097182041991\n"
     ]
    }
   ],
   "source": [
    "n=int(input(\"Enter no:\"))\n",
    "print(\"fourth root of\",n,\"=\",n**(1/4))"
   ]
  },
  {
   "cell_type": "markdown",
   "metadata": {},
   "source": [
    "# Question 3:\n",
    "Write a program to swap two numbers in Python with the help of a temporary variable."
   ]
  },
  {
   "cell_type": "code",
   "execution_count": 27,
   "metadata": {},
   "outputs": [
    {
     "name": "stdout",
     "output_type": "stream",
     "text": [
      "a=10\n",
      "b=5\n",
      "before swap a= 10 b= 5\n",
      "after swap a= 5 b= 10\n"
     ]
    }
   ],
   "source": [
    "a=int(input(\"a=\"))\n",
    "b=int(input(\"b=\"))\n",
    "print(\"before swap a=\",a,\"b=\",b)\n",
    "t=a\n",
    "a=b\n",
    "b=t\n",
    "print(\"after swap a=\",a,\"b=\",b)"
   ]
  },
  {
   "cell_type": "markdown",
   "metadata": {},
   "source": [
    "# Question 4:\n",
    "Write a program to swap two numbers in Python without using a temporary variable."
   ]
  },
  {
   "cell_type": "code",
   "execution_count": 28,
   "metadata": {},
   "outputs": [
    {
     "name": "stdout",
     "output_type": "stream",
     "text": [
      "a=25\n",
      "b=40\n",
      "before swap a= 25 b= 40\n",
      "after swap a= 40 b= 25\n"
     ]
    }
   ],
   "source": [
    "a=int(input(\"a=\"))\n",
    "b=int(input(\"b=\"))\n",
    "print(\"before swap a=\",a,\"b=\",b)\n",
    "a=a+b\n",
    "b=a-b\n",
    "a=a-b\n",
    "print(\"after swap a=\",a,\"b=\",b)"
   ]
  },
  {
   "cell_type": "markdown",
   "metadata": {},
   "source": [
    "# Question 5:\n",
    "Write a program to convert fahrenheit to kelvin and celsius both."
   ]
  },
  {
   "cell_type": "code",
   "execution_count": 31,
   "metadata": {},
   "outputs": [
    {
     "name": "stdout",
     "output_type": "stream",
     "text": [
      "enter no:400\n",
      "400 fahrenheit in kelvin = 477.94444444444446 K and in celsius= 204.44444444444446 C\n"
     ]
    }
   ],
   "source": [
    "f=int(input(\"enter no:\"))\n",
    "k=273.5 + ((f - 32.0) * (5.0/9.0))\n",
    "c = (5.0/9) * (f - 32);\n",
    "print(f,'fahrenheit in kelvin =',k,\"K and in celsius=\",c,\"C\")"
   ]
  },
  {
   "cell_type": "markdown",
   "metadata": {},
   "source": [
    "# Question 6:\n",
    "Write a program to demonstrate all the available data types in Python."
   ]
  },
  {
   "cell_type": "code",
   "execution_count": 23,
   "metadata": {},
   "outputs": [
    {
     "name": "stdout",
     "output_type": "stream",
     "text": [
      "2 = <class 'int'>\n",
      "1.23 = <class 'float'>\n",
      "Letsupgrade = <class 'str'>\n",
      "(1+2j) = <class 'complex'>\n",
      "True = <class 'bool'>\n",
      "[1, 2] = <class 'list'>\n",
      "{1, 2} = <class 'set'>\n",
      "(1, 2) = <class 'tuple'>\n",
      "{1: 'a', 2: 'b'} = <class 'dict'>\n"
     ]
    }
   ],
   "source": [
    "a=2\n",
    "print(a,\"=\",type(a))\n",
    "a=1.23\n",
    "print(a,\"=\",type(a))\n",
    "a='Letsupgrade'\n",
    "print(a,\"=\",type(a))\n",
    "a=1+2j\n",
    "print(a,\"=\",type(a))\n",
    "a=True\n",
    "print(a,\"=\",type(a))\n",
    "a=[1,2]\n",
    "print(a,\"=\",type(a))\n",
    "a={1,2}\n",
    "print(a,\"=\",type(a))\n",
    "a=(1,2)\n",
    "print(a,\"=\",type(a))\n",
    "a={1:'a',2:'b'}\n",
    "print(a,\"=\",type(a))"
   ]
  },
  {
   "cell_type": "markdown",
   "metadata": {},
   "source": [
    "# Question 7:\n",
    "Create a Markdown cell in jupyter and list the steps discussed in the session by Dr. Darshan\n",
    "Ingle sir to create Github profile and upload Githubs Assignment link."
   ]
  },
  {
   "cell_type": "markdown",
   "metadata": {},
   "source": [
    "1. Create GitHub account and login\n",
    "2. Create new repository by clicking the button\n",
    "3. Name the repository as LetsUpgrade AI/ML \n",
    "4. keep all the remaining option default(it shoud be public) and click create  repository\n",
    "5. After that click on \"uploading an existing file\" to upload the assignment \n",
    "6. Then Upload the folder and click on cummite channges\n",
    "7. After that copy the link of the uploaded file and paste it into the google form and submit."
   ]
  }
 ],
 "metadata": {
  "kernelspec": {
   "display_name": "Python 3",
   "language": "python",
   "name": "python3"
  },
  "language_info": {
   "codemirror_mode": {
    "name": "ipython",
    "version": 3
   },
   "file_extension": ".py",
   "mimetype": "text/x-python",
   "name": "python",
   "nbconvert_exporter": "python",
   "pygments_lexer": "ipython3",
   "version": "3.7.1"
  }
 },
 "nbformat": 4,
 "nbformat_minor": 2
}
