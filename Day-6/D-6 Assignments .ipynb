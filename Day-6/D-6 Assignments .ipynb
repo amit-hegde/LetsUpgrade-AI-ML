{
 "cells": [
  {
   "cell_type": "markdown",
   "metadata": {},
   "source": [
    "# Question 1:\n",
    "Assuming that we have some email addresses in the \"username@companyname.com\" format, please write program\n",
    "to print the company name of a given email address. Both user names and company names are composed of letters\n",
    "only."
   ]
  },
  {
   "cell_type": "code",
   "execution_count": 9,
   "metadata": {},
   "outputs": [
    {
     "name": "stdout",
     "output_type": "stream",
     "text": [
      "Enter E-mail address:-john@google.com\n",
      "Company name:- google\n"
     ]
    }
   ],
   "source": [
    "s=input(\"Enter E-mail address:-\")\n",
    "s=s.split('@')\n",
    "s=s[1].split('.')\n",
    "print(\"Company name:-\",s[0])"
   ]
  },
  {
   "cell_type": "markdown",
   "metadata": {},
   "source": [
    "# Question 2:\n",
    "Write a program that accepts a comma-separated sequence of words as input and prints the words in a comma\n",
    "separated sequence after sorting them alphabetically."
   ]
  },
  {
   "cell_type": "code",
   "execution_count": 17,
   "metadata": {},
   "outputs": [
    {
     "name": "stdout",
     "output_type": "stream",
     "text": [
      "Enter the words separated by the comma :- without,hello,bag,world\n",
      "After sorting :- bag,hello,without,world\n"
     ]
    }
   ],
   "source": [
    "s=input(\"Enter the words separated by the comma :- \")\n",
    "s=s.split(',')\n",
    "s.sort()\n",
    "print('After sorting ',end=':- ')\n",
    "print(*s,sep=',')"
   ]
  },
  {
   "cell_type": "markdown",
   "metadata": {},
   "source": [
    "# Question 3:\n",
    "Create your own Jupyter Notebook for Sets.\n",
    "Reference link: https://www.w3schools.com/python/python_sets.asp"
   ]
  },
  {
   "cell_type": "markdown",
   "metadata": {},
   "source": [
    "A set is a collection which is unordered and unindexed. In Python sets are written with curly brackets.\n",
    " and Set is immutable"
   ]
  },
  {
   "cell_type": "code",
   "execution_count": 55,
   "metadata": {},
   "outputs": [
    {
     "name": "stdout",
     "output_type": "stream",
     "text": [
      "{1, 2.3}\n"
     ]
    }
   ],
   "source": [
    "s={}\n",
    "s={1,2.3}\n",
    "print(s)"
   ]
  },
  {
   "cell_type": "markdown",
   "metadata": {},
   "source": [
    "Set Methods\n"
   ]
  },
  {
   "cell_type": "code",
   "execution_count": 56,
   "metadata": {},
   "outputs": [
    {
     "name": "stdout",
     "output_type": "stream",
     "text": [
      "{1, 2.3, 6}\n",
      "{1, 2.3, 3, 5, 6, 7}\n"
     ]
    }
   ],
   "source": [
    "#Add Items\n",
    "s.add(6)\n",
    "print(s)\n",
    "#Add more than 1 items\n",
    "s.update([3,5,7])\n",
    "print(s)"
   ]
  },
  {
   "cell_type": "code",
   "execution_count": 57,
   "metadata": {},
   "outputs": [
    {
     "name": "stdout",
     "output_type": "stream",
     "text": [
      "6\n",
      "{2.3, 3, 5, 6, 7}\n",
      "{3, 5, 6, 7}\n"
     ]
    }
   ],
   "source": [
    "#Get the Length of a Set using len()\n",
    "print(len(s))\n",
    "#Remove specific Item using remove()\n",
    "s.remove(1)\n",
    "print(s)\n",
    "#Remove Item using pop()\n",
    "s.pop()\n",
    "print(s)"
   ]
  },
  {
   "cell_type": "code",
   "execution_count": 58,
   "metadata": {},
   "outputs": [
    {
     "name": "stdout",
     "output_type": "stream",
     "text": [
      "{3, 5, 6, 7, 'b', 'a'}\n"
     ]
    }
   ],
   "source": [
    "# join 2 sets using set()\n",
    "s1={\"a\",'b'}\n",
    "s=s.union(s1)\n",
    "print(s)"
   ]
  },
  {
   "cell_type": "code",
   "execution_count": 59,
   "metadata": {},
   "outputs": [
    {
     "name": "stdout",
     "output_type": "stream",
     "text": [
      "set()\n"
     ]
    }
   ],
   "source": [
    "#clear the set using clear()\n",
    "s.clear()\n",
    "print(s)"
   ]
  },
  {
   "cell_type": "markdown",
   "metadata": {},
   "source": [
    "# Question 4:\n",
    "Given a list of n-1 numbers ranging from 1 to n, your task is to find the missing number. There are no duplicates."
   ]
  },
  {
   "cell_type": "code",
   "execution_count": 63,
   "metadata": {},
   "outputs": [
    {
     "name": "stdout",
     "output_type": "stream",
     "text": [
      "Enter elements superated by space:-30 29 33 32 34 31 36\n",
      "Missing no is :- 35\n"
     ]
    }
   ],
   "source": [
    "print(\"Enter elements superated by space:-\",end=\"\")\n",
    "l=[int(x) for x in input().split()]\n",
    "for i in range(min(l),max(l)):\n",
    "    if i not in l:\n",
    "        print(\"Missing no is :-\",i)\n",
    "        break"
   ]
  },
  {
   "cell_type": "markdown",
   "metadata": {},
   "source": [
    "# Question 5:\n",
    "With a given list L, write a program to print this list L after removing all duplicate values with original order reserved."
   ]
  },
  {
   "cell_type": "code",
   "execution_count": 32,
   "metadata": {},
   "outputs": [
    {
     "name": "stdout",
     "output_type": "stream",
     "text": [
      "Enter elements superated by space:-12 24 35 24 88 120 155 88 120 155\n",
      "After removing duplicate values :- 12 24 35 88 120 155\n"
     ]
    }
   ],
   "source": [
    "def check(l):\n",
    "    s=[]\n",
    "    for i in l:\n",
    "        if i not in s:\n",
    "            s.append(i)\n",
    "    return s        \n",
    "print(\"Enter elements superated by space:-\",end=\"\")\n",
    "l=[int(x) for x in input().split()]\n",
    "print(\"After removing duplicate values \",end=\":- \")\n",
    "print(*check(l),sep=' ')"
   ]
  }
 ],
 "metadata": {
  "kernelspec": {
   "display_name": "Python 3",
   "language": "python",
   "name": "python3"
  },
  "language_info": {
   "codemirror_mode": {
    "name": "ipython",
    "version": 3
   },
   "file_extension": ".py",
   "mimetype": "text/x-python",
   "name": "python",
   "nbconvert_exporter": "python",
   "pygments_lexer": "ipython3",
   "version": "3.7.1"
  }
 },
 "nbformat": 4,
 "nbformat_minor": 2
}
