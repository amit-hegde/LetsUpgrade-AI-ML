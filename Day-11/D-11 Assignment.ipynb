{
 "cells": [
  {
   "cell_type": "markdown",
   "metadata": {},
   "source": [
    "# Question\n",
    "find correlation between attrition and other variables"
   ]
  },
  {
   "cell_type": "code",
   "execution_count": 35,
   "metadata": {},
   "outputs": [],
   "source": [
    "#importing the required packages\n",
    "import pandas as pd\n",
    "from scipy.stats import pearsonr as ps\n",
    "import matplotlib.pyplot as plt"
   ]
  },
  {
   "cell_type": "code",
   "execution_count": 77,
   "metadata": {},
   "outputs": [
    {
     "data": {
      "text/html": [
       "<div>\n",
       "<style scoped>\n",
       "    .dataframe tbody tr th:only-of-type {\n",
       "        vertical-align: middle;\n",
       "    }\n",
       "\n",
       "    .dataframe tbody tr th {\n",
       "        vertical-align: top;\n",
       "    }\n",
       "\n",
       "    .dataframe thead th {\n",
       "        text-align: right;\n",
       "    }\n",
       "</style>\n",
       "<table border=\"1\" class=\"dataframe\">\n",
       "  <thead>\n",
       "    <tr style=\"text-align: right;\">\n",
       "      <th></th>\n",
       "      <th>Age</th>\n",
       "      <th>Attrition</th>\n",
       "      <th>BusinessTravel</th>\n",
       "      <th>Department</th>\n",
       "      <th>DistanceFromHome</th>\n",
       "      <th>Education</th>\n",
       "      <th>EducationField</th>\n",
       "      <th>EmployeeCount</th>\n",
       "      <th>EmployeeID</th>\n",
       "      <th>Gender</th>\n",
       "      <th>...</th>\n",
       "      <th>NumCompaniesWorked</th>\n",
       "      <th>Over18</th>\n",
       "      <th>PercentSalaryHike</th>\n",
       "      <th>StandardHours</th>\n",
       "      <th>StockOptionLevel</th>\n",
       "      <th>TotalWorkingYears</th>\n",
       "      <th>TrainingTimesLastYear</th>\n",
       "      <th>YearsAtCompany</th>\n",
       "      <th>YearsSinceLastPromotion</th>\n",
       "      <th>YearsWithCurrManager</th>\n",
       "    </tr>\n",
       "  </thead>\n",
       "  <tbody>\n",
       "    <tr>\n",
       "      <th>0</th>\n",
       "      <td>51</td>\n",
       "      <td>0</td>\n",
       "      <td>Travel_Rarely</td>\n",
       "      <td>Sales</td>\n",
       "      <td>6</td>\n",
       "      <td>2</td>\n",
       "      <td>Life Sciences</td>\n",
       "      <td>1</td>\n",
       "      <td>1</td>\n",
       "      <td>Female</td>\n",
       "      <td>...</td>\n",
       "      <td>1.0</td>\n",
       "      <td>Y</td>\n",
       "      <td>11</td>\n",
       "      <td>8</td>\n",
       "      <td>0</td>\n",
       "      <td>1.0</td>\n",
       "      <td>6</td>\n",
       "      <td>1</td>\n",
       "      <td>0</td>\n",
       "      <td>0</td>\n",
       "    </tr>\n",
       "    <tr>\n",
       "      <th>1</th>\n",
       "      <td>31</td>\n",
       "      <td>1</td>\n",
       "      <td>Travel_Frequently</td>\n",
       "      <td>Research &amp; Development</td>\n",
       "      <td>10</td>\n",
       "      <td>1</td>\n",
       "      <td>Life Sciences</td>\n",
       "      <td>1</td>\n",
       "      <td>2</td>\n",
       "      <td>Female</td>\n",
       "      <td>...</td>\n",
       "      <td>0.0</td>\n",
       "      <td>Y</td>\n",
       "      <td>23</td>\n",
       "      <td>8</td>\n",
       "      <td>1</td>\n",
       "      <td>6.0</td>\n",
       "      <td>3</td>\n",
       "      <td>5</td>\n",
       "      <td>1</td>\n",
       "      <td>4</td>\n",
       "    </tr>\n",
       "    <tr>\n",
       "      <th>2</th>\n",
       "      <td>32</td>\n",
       "      <td>0</td>\n",
       "      <td>Travel_Frequently</td>\n",
       "      <td>Research &amp; Development</td>\n",
       "      <td>17</td>\n",
       "      <td>4</td>\n",
       "      <td>Other</td>\n",
       "      <td>1</td>\n",
       "      <td>3</td>\n",
       "      <td>Male</td>\n",
       "      <td>...</td>\n",
       "      <td>1.0</td>\n",
       "      <td>Y</td>\n",
       "      <td>15</td>\n",
       "      <td>8</td>\n",
       "      <td>3</td>\n",
       "      <td>5.0</td>\n",
       "      <td>2</td>\n",
       "      <td>5</td>\n",
       "      <td>0</td>\n",
       "      <td>3</td>\n",
       "    </tr>\n",
       "    <tr>\n",
       "      <th>3</th>\n",
       "      <td>38</td>\n",
       "      <td>0</td>\n",
       "      <td>0n-Travel</td>\n",
       "      <td>Research &amp; Development</td>\n",
       "      <td>2</td>\n",
       "      <td>5</td>\n",
       "      <td>Life Sciences</td>\n",
       "      <td>1</td>\n",
       "      <td>4</td>\n",
       "      <td>Male</td>\n",
       "      <td>...</td>\n",
       "      <td>3.0</td>\n",
       "      <td>Y</td>\n",
       "      <td>11</td>\n",
       "      <td>8</td>\n",
       "      <td>3</td>\n",
       "      <td>13.0</td>\n",
       "      <td>5</td>\n",
       "      <td>8</td>\n",
       "      <td>7</td>\n",
       "      <td>5</td>\n",
       "    </tr>\n",
       "    <tr>\n",
       "      <th>4</th>\n",
       "      <td>32</td>\n",
       "      <td>0</td>\n",
       "      <td>Travel_Rarely</td>\n",
       "      <td>Research &amp; Development</td>\n",
       "      <td>10</td>\n",
       "      <td>1</td>\n",
       "      <td>Medical</td>\n",
       "      <td>1</td>\n",
       "      <td>5</td>\n",
       "      <td>Male</td>\n",
       "      <td>...</td>\n",
       "      <td>4.0</td>\n",
       "      <td>Y</td>\n",
       "      <td>12</td>\n",
       "      <td>8</td>\n",
       "      <td>2</td>\n",
       "      <td>9.0</td>\n",
       "      <td>2</td>\n",
       "      <td>6</td>\n",
       "      <td>0</td>\n",
       "      <td>4</td>\n",
       "    </tr>\n",
       "  </tbody>\n",
       "</table>\n",
       "<p>5 rows × 24 columns</p>\n",
       "</div>"
      ],
      "text/plain": [
       "   Age  Attrition     BusinessTravel              Department  \\\n",
       "0   51          0      Travel_Rarely                   Sales   \n",
       "1   31          1  Travel_Frequently  Research & Development   \n",
       "2   32          0  Travel_Frequently  Research & Development   \n",
       "3   38          0          0n-Travel  Research & Development   \n",
       "4   32          0      Travel_Rarely  Research & Development   \n",
       "\n",
       "   DistanceFromHome  Education EducationField  EmployeeCount  EmployeeID  \\\n",
       "0                 6          2  Life Sciences              1           1   \n",
       "1                10          1  Life Sciences              1           2   \n",
       "2                17          4          Other              1           3   \n",
       "3                 2          5  Life Sciences              1           4   \n",
       "4                10          1        Medical              1           5   \n",
       "\n",
       "   Gender          ...           NumCompaniesWorked Over18 PercentSalaryHike  \\\n",
       "0  Female          ...                          1.0      Y                11   \n",
       "1  Female          ...                          0.0      Y                23   \n",
       "2    Male          ...                          1.0      Y                15   \n",
       "3    Male          ...                          3.0      Y                11   \n",
       "4    Male          ...                          4.0      Y                12   \n",
       "\n",
       "   StandardHours  StockOptionLevel TotalWorkingYears  TrainingTimesLastYear  \\\n",
       "0              8                 0               1.0                      6   \n",
       "1              8                 1               6.0                      3   \n",
       "2              8                 3               5.0                      2   \n",
       "3              8                 3              13.0                      5   \n",
       "4              8                 2               9.0                      2   \n",
       "\n",
       "   YearsAtCompany  YearsSinceLastPromotion  YearsWithCurrManager  \n",
       "0               1                        0                     0  \n",
       "1               5                        1                     4  \n",
       "2               5                        0                     3  \n",
       "3               8                        7                     5  \n",
       "4               6                        0                     4  \n",
       "\n",
       "[5 rows x 24 columns]"
      ]
     },
     "execution_count": 77,
     "metadata": {},
     "output_type": "execute_result"
    }
   ],
   "source": [
    "d1=pd.read_csv('general_data.csv')\n",
    "d=d1.dropna()\n",
    "d.head()"
   ]
  },
  {
   "cell_type": "markdown",
   "metadata": {},
   "source": [
    "# 1) \n",
    " H0 – There is no significant difference in between the Attrition and Age of employee  \n",
    " H1 - There is significant difference in between  the Attrition and Age of employee "
   ]
  },
  {
   "cell_type": "code",
   "execution_count": 65,
   "metadata": {},
   "outputs": [
    {
     "name": "stdout",
     "output_type": "stream",
     "text": [
      "-0.15839867954096706 5.1265982193975044e-26\n"
     ]
    }
   ],
   "source": [
    "s,p=ps(d.Attrition,d.Age)\n",
    "print(s,p)"
   ]
  },
  {
   "cell_type": "markdown",
   "metadata": {},
   "source": [
    "correlation r is -0.1583 and p is <0.05 therefor H0 is rejected\n",
    "\n"
   ]
  },
  {
   "cell_type": "markdown",
   "metadata": {},
   "source": [
    "# 2)\n",
    "H0 – There is no significant difference in between the Attrition and JobLevel of employee\n",
    "\n",
    "H1 - There is significant difference in between the Attrition and JobLevel of employee\n"
   ]
  },
  {
   "cell_type": "code",
   "execution_count": 67,
   "metadata": {},
   "outputs": [
    {
     "name": "stdout",
     "output_type": "stream",
     "text": [
      "-0.012381569720790839 0.4125489150411943\n"
     ]
    }
   ],
   "source": [
    "s,p=ps(d.Attrition,d.JobLevel)\n",
    "print(s,p)"
   ]
  },
  {
   "cell_type": "markdown",
   "metadata": {},
   "source": [
    "correlation r is -0.0123815 and p is 0.412548 which is >=0.05 therefor H1 is rejected"
   ]
  },
  {
   "cell_type": "markdown",
   "metadata": {},
   "source": [
    "# 3)\n",
    "H0 – There is no significant difference in between the Attrition and MonthlyIncome\t of employee\n",
    " \n",
    "H1 - There is significant difference in between the Attrition and MonthlyIncome\t of employee"
   ]
  },
  {
   "cell_type": "code",
   "execution_count": 68,
   "metadata": {},
   "outputs": [
    {
     "name": "stdout",
     "output_type": "stream",
     "text": [
      "-0.030160293808460664 0.04589086274490169\n"
     ]
    }
   ],
   "source": [
    "s,p=ps(d.Attrition,d.MonthlyIncome)\n",
    "print(s,p)"
   ]
  },
  {
   "cell_type": "markdown",
   "metadata": {},
   "source": [
    "correlation r is -0.03016 and p is 0.045 which is <0.05 therefor H0 is rejected"
   ]
  },
  {
   "cell_type": "markdown",
   "metadata": {},
   "source": [
    "# 4)\n",
    "H0 – There is no significant difference in between the Attrition and NumCompaniesWorked of employee\n",
    "\n",
    "H1 - There is significant difference in between the Attrition and NumCompaniesWorked of employee"
   ]
  },
  {
   "cell_type": "code",
   "execution_count": 69,
   "metadata": {},
   "outputs": [
    {
     "name": "stdout",
     "output_type": "stream",
     "text": [
      "0.04283056724472089 0.004572057121640626\n"
     ]
    }
   ],
   "source": [
    "s,p=ps(d.Attrition,d.NumCompaniesWorked)\n",
    "print(s,p)"
   ]
  },
  {
   "cell_type": "markdown",
   "metadata": {},
   "source": [
    "correlation r is 0.04283 and p is 0.00457 which is <0.05 therefor H0 is rejected"
   ]
  },
  {
   "cell_type": "markdown",
   "metadata": {},
   "source": [
    "# 5) \n",
    "H0 – There is no significant difference in between the Attrition and YearsSinceLastPromotion of employee\n",
    "\n",
    "H1 - There is significant difference in between the Attrition and YearsSinceLastPromotion of employee"
   ]
  },
  {
   "cell_type": "code",
   "execution_count": 70,
   "metadata": {},
   "outputs": [
    {
     "name": "stdout",
     "output_type": "stream",
     "text": [
      "-0.031423150563309944 0.037522936074080596\n"
     ]
    }
   ],
   "source": [
    "s,p=ps(d.Attrition,d.YearsSinceLastPromotion)\n",
    "print(s,p)"
   ]
  },
  {
   "cell_type": "markdown",
   "metadata": {},
   "source": [
    "correlation r is -0.03142 and p is 0.03752 which is <0.05 therefor H0 is rejected"
   ]
  },
  {
   "cell_type": "markdown",
   "metadata": {},
   "source": [
    "# 6) \n",
    "H0 – There is no significant difference in between the Attrition and Education of employee\n",
    "\n",
    "H1 - There is significant difference in between the Attrition and Education\tof employee"
   ]
  },
  {
   "cell_type": "code",
   "execution_count": 71,
   "metadata": {},
   "outputs": [
    {
     "name": "stdout",
     "output_type": "stream",
     "text": [
      "-0.01710630705027875 0.25757539308237426\n"
     ]
    }
   ],
   "source": [
    "s,p=ps(d.Attrition,d.Education)\n",
    "print(s,p)"
   ]
  },
  {
   "cell_type": "markdown",
   "metadata": {},
   "source": [
    "correlation r is -0.0171 and p is 0.25757 which is >=0.05 therefor H1 is rejected"
   ]
  },
  {
   "cell_type": "markdown",
   "metadata": {},
   "source": [
    "# 7)\n",
    "H0 – There is no significant difference in between the Attrition and YearsWithCurrManager of employee\n",
    "\n",
    "H1 - There is significant difference in between the Attrition and YearsWithCurrManager of employee"
   ]
  },
  {
   "cell_type": "code",
   "execution_count": 72,
   "metadata": {},
   "outputs": [
    {
     "name": "stdout",
     "output_type": "stream",
     "text": [
      "-0.15469153690287274 7.105369646795425e-25\n"
     ]
    }
   ],
   "source": [
    "s,p=ps(d.Attrition,d.YearsWithCurrManager)\n",
    "print(s,p)"
   ]
  },
  {
   "cell_type": "markdown",
   "metadata": {},
   "source": [
    "correlation r is -0.154691 and p is  <0.05 therefor H0 is rejected"
   ]
  },
  {
   "cell_type": "markdown",
   "metadata": {},
   "source": [
    "# 8)\n",
    "H0 – There is no significant difference in between the Attrition and YearsAtCompany of employee\n",
    "\n",
    "H1 - There is significant difference in between the Attrition and YearsAtCompany of employee"
   ]
  },
  {
   "cell_type": "code",
   "execution_count": 73,
   "metadata": {},
   "outputs": [
    {
     "name": "stdout",
     "output_type": "stream",
     "text": [
      "-0.13300261842521538 9.47611808487322e-19\n"
     ]
    }
   ],
   "source": [
    "s,p=ps(d.Attrition,d.YearsAtCompany)\n",
    "print(s,p)"
   ]
  },
  {
   "cell_type": "markdown",
   "metadata": {},
   "source": [
    "correlation r is -0.13300 and p is <0.05 therefor H0 is rejected"
   ]
  },
  {
   "cell_type": "markdown",
   "metadata": {},
   "source": [
    "# 9)\n",
    "H0 – There is no significant difference in between the Attrition and PercentSalaryHike of employee\n",
    "\n",
    "H1 - There is significant difference in between the Attrition and PercentSalaryHike of employee"
   ]
  },
  {
   "cell_type": "code",
   "execution_count": 74,
   "metadata": {},
   "outputs": [
    {
     "name": "stdout",
     "output_type": "stream",
     "text": [
      "0.03315303713546665 0.02819244693520343\n"
     ]
    }
   ],
   "source": [
    "s,p=ps(d.Attrition,d.PercentSalaryHike)\n",
    "print(s,p)"
   ]
  },
  {
   "cell_type": "markdown",
   "metadata": {},
   "source": [
    "correlation r is 0.0331530 and p is 0.02819 which is <0.05 therefor H0 is rejected"
   ]
  },
  {
   "cell_type": "markdown",
   "metadata": {},
   "source": [
    "# 10)\n",
    "H0 – There is no significant difference in between the Attrition and DistanceFromHome of employee\n",
    "\n",
    "H1 - There is significant difference in between the Attrition and DistanceFromHome of employee"
   ]
  },
  {
   "cell_type": "code",
   "execution_count": 75,
   "metadata": {},
   "outputs": [
    {
     "name": "stdout",
     "output_type": "stream",
     "text": [
      "-0.00944863851515625 0.5317715668055768\n"
     ]
    }
   ],
   "source": [
    "s,p=ps(d.Attrition,d.DistanceFromHome)\n",
    "print(s,p)"
   ]
  },
  {
   "cell_type": "markdown",
   "metadata": {},
   "source": [
    "correlation r is -0.009448 and p is 0.531771 which is >=0.05 therefor H1 is rejected"
   ]
  },
  {
   "cell_type": "markdown",
   "metadata": {},
   "source": [
    "Correlation matrix for cross verification of correlation"
   ]
  },
  {
   "cell_type": "code",
   "execution_count": 76,
   "metadata": {},
   "outputs": [
    {
     "data": {
      "text/html": [
       "<div>\n",
       "<style scoped>\n",
       "    .dataframe tbody tr th:only-of-type {\n",
       "        vertical-align: middle;\n",
       "    }\n",
       "\n",
       "    .dataframe tbody tr th {\n",
       "        vertical-align: top;\n",
       "    }\n",
       "\n",
       "    .dataframe thead th {\n",
       "        text-align: right;\n",
       "    }\n",
       "</style>\n",
       "<table border=\"1\" class=\"dataframe\">\n",
       "  <thead>\n",
       "    <tr style=\"text-align: right;\">\n",
       "      <th></th>\n",
       "      <th>Age</th>\n",
       "      <th>Attrition</th>\n",
       "      <th>DistanceFromHome</th>\n",
       "      <th>Education</th>\n",
       "      <th>EmployeeCount</th>\n",
       "      <th>EmployeeID</th>\n",
       "      <th>JobLevel</th>\n",
       "      <th>MonthlyIncome</th>\n",
       "      <th>NumCompaniesWorked</th>\n",
       "      <th>PercentSalaryHike</th>\n",
       "      <th>StandardHours</th>\n",
       "      <th>StockOptionLevel</th>\n",
       "      <th>TotalWorkingYears</th>\n",
       "      <th>TrainingTimesLastYear</th>\n",
       "      <th>YearsAtCompany</th>\n",
       "      <th>YearsSinceLastPromotion</th>\n",
       "      <th>YearsWithCurrManager</th>\n",
       "    </tr>\n",
       "  </thead>\n",
       "  <tbody>\n",
       "    <tr>\n",
       "      <th>Age</th>\n",
       "      <td>1.000000</td>\n",
       "      <td>-0.158399</td>\n",
       "      <td>0.007376</td>\n",
       "      <td>-0.033900</td>\n",
       "      <td>NaN</td>\n",
       "      <td>0.008105</td>\n",
       "      <td>-0.001137</td>\n",
       "      <td>-0.045163</td>\n",
       "      <td>0.299527</td>\n",
       "      <td>-0.032561</td>\n",
       "      <td>NaN</td>\n",
       "      <td>-0.031504</td>\n",
       "      <td>0.680037</td>\n",
       "      <td>-0.028962</td>\n",
       "      <td>0.311281</td>\n",
       "      <td>0.215650</td>\n",
       "      <td>0.201580</td>\n",
       "    </tr>\n",
       "    <tr>\n",
       "      <th>Attrition</th>\n",
       "      <td>-0.158399</td>\n",
       "      <td>1.000000</td>\n",
       "      <td>-0.009449</td>\n",
       "      <td>-0.017106</td>\n",
       "      <td>NaN</td>\n",
       "      <td>-0.004621</td>\n",
       "      <td>-0.012382</td>\n",
       "      <td>-0.030160</td>\n",
       "      <td>0.042831</td>\n",
       "      <td>0.033153</td>\n",
       "      <td>NaN</td>\n",
       "      <td>-0.008164</td>\n",
       "      <td>-0.169670</td>\n",
       "      <td>-0.047586</td>\n",
       "      <td>-0.133003</td>\n",
       "      <td>-0.031423</td>\n",
       "      <td>-0.154692</td>\n",
       "    </tr>\n",
       "    <tr>\n",
       "      <th>DistanceFromHome</th>\n",
       "      <td>0.007376</td>\n",
       "      <td>-0.009449</td>\n",
       "      <td>1.000000</td>\n",
       "      <td>-0.007491</td>\n",
       "      <td>NaN</td>\n",
       "      <td>-0.000326</td>\n",
       "      <td>-0.039990</td>\n",
       "      <td>-0.022757</td>\n",
       "      <td>-0.014449</td>\n",
       "      <td>0.037720</td>\n",
       "      <td>NaN</td>\n",
       "      <td>0.009353</td>\n",
       "      <td>0.009574</td>\n",
       "      <td>-0.008957</td>\n",
       "      <td>0.030746</td>\n",
       "      <td>0.002243</td>\n",
       "      <td>0.021773</td>\n",
       "    </tr>\n",
       "    <tr>\n",
       "      <th>Education</th>\n",
       "      <td>-0.033900</td>\n",
       "      <td>-0.017106</td>\n",
       "      <td>-0.007491</td>\n",
       "      <td>1.000000</td>\n",
       "      <td>NaN</td>\n",
       "      <td>-0.009389</td>\n",
       "      <td>0.045822</td>\n",
       "      <td>0.007289</td>\n",
       "      <td>-0.016210</td>\n",
       "      <td>-0.041054</td>\n",
       "      <td>NaN</td>\n",
       "      <td>0.002386</td>\n",
       "      <td>-0.009228</td>\n",
       "      <td>0.009939</td>\n",
       "      <td>0.005997</td>\n",
       "      <td>0.023457</td>\n",
       "      <td>0.005645</td>\n",
       "    </tr>\n",
       "    <tr>\n",
       "      <th>EmployeeCount</th>\n",
       "      <td>NaN</td>\n",
       "      <td>NaN</td>\n",
       "      <td>NaN</td>\n",
       "      <td>NaN</td>\n",
       "      <td>NaN</td>\n",
       "      <td>NaN</td>\n",
       "      <td>NaN</td>\n",
       "      <td>NaN</td>\n",
       "      <td>NaN</td>\n",
       "      <td>NaN</td>\n",
       "      <td>NaN</td>\n",
       "      <td>NaN</td>\n",
       "      <td>NaN</td>\n",
       "      <td>NaN</td>\n",
       "      <td>NaN</td>\n",
       "      <td>NaN</td>\n",
       "      <td>NaN</td>\n",
       "    </tr>\n",
       "    <tr>\n",
       "      <th>EmployeeID</th>\n",
       "      <td>0.008105</td>\n",
       "      <td>-0.004621</td>\n",
       "      <td>-0.000326</td>\n",
       "      <td>-0.009389</td>\n",
       "      <td>NaN</td>\n",
       "      <td>1.000000</td>\n",
       "      <td>-0.003090</td>\n",
       "      <td>0.007865</td>\n",
       "      <td>0.000719</td>\n",
       "      <td>-0.004877</td>\n",
       "      <td>NaN</td>\n",
       "      <td>-0.013488</td>\n",
       "      <td>-0.001688</td>\n",
       "      <td>-0.012102</td>\n",
       "      <td>0.004117</td>\n",
       "      <td>0.000814</td>\n",
       "      <td>0.009079</td>\n",
       "    </tr>\n",
       "    <tr>\n",
       "      <th>JobLevel</th>\n",
       "      <td>-0.001137</td>\n",
       "      <td>-0.012382</td>\n",
       "      <td>-0.039990</td>\n",
       "      <td>0.045822</td>\n",
       "      <td>NaN</td>\n",
       "      <td>-0.003090</td>\n",
       "      <td>1.000000</td>\n",
       "      <td>0.046688</td>\n",
       "      <td>-0.009759</td>\n",
       "      <td>0.010874</td>\n",
       "      <td>NaN</td>\n",
       "      <td>0.000365</td>\n",
       "      <td>-0.036293</td>\n",
       "      <td>-0.031931</td>\n",
       "      <td>-0.063360</td>\n",
       "      <td>-0.059680</td>\n",
       "      <td>-0.053898</td>\n",
       "    </tr>\n",
       "    <tr>\n",
       "      <th>MonthlyIncome</th>\n",
       "      <td>-0.045163</td>\n",
       "      <td>-0.030160</td>\n",
       "      <td>-0.022757</td>\n",
       "      <td>0.007289</td>\n",
       "      <td>NaN</td>\n",
       "      <td>0.007865</td>\n",
       "      <td>0.046688</td>\n",
       "      <td>1.000000</td>\n",
       "      <td>-0.021446</td>\n",
       "      <td>0.004607</td>\n",
       "      <td>NaN</td>\n",
       "      <td>0.027242</td>\n",
       "      <td>-0.034398</td>\n",
       "      <td>0.049780</td>\n",
       "      <td>0.000088</td>\n",
       "      <td>0.064470</td>\n",
       "      <td>0.023095</td>\n",
       "    </tr>\n",
       "    <tr>\n",
       "      <th>NumCompaniesWorked</th>\n",
       "      <td>0.299527</td>\n",
       "      <td>0.042831</td>\n",
       "      <td>-0.014449</td>\n",
       "      <td>-0.016210</td>\n",
       "      <td>NaN</td>\n",
       "      <td>0.000719</td>\n",
       "      <td>-0.009759</td>\n",
       "      <td>-0.021446</td>\n",
       "      <td>1.000000</td>\n",
       "      <td>0.030064</td>\n",
       "      <td>NaN</td>\n",
       "      <td>0.016291</td>\n",
       "      <td>0.238807</td>\n",
       "      <td>-0.031335</td>\n",
       "      <td>-0.117213</td>\n",
       "      <td>-0.035855</td>\n",
       "      <td>-0.109372</td>\n",
       "    </tr>\n",
       "    <tr>\n",
       "      <th>PercentSalaryHike</th>\n",
       "      <td>-0.032561</td>\n",
       "      <td>0.033153</td>\n",
       "      <td>0.037720</td>\n",
       "      <td>-0.041054</td>\n",
       "      <td>NaN</td>\n",
       "      <td>-0.004877</td>\n",
       "      <td>0.010874</td>\n",
       "      <td>0.004607</td>\n",
       "      <td>0.030064</td>\n",
       "      <td>1.000000</td>\n",
       "      <td>NaN</td>\n",
       "      <td>0.012104</td>\n",
       "      <td>-0.018480</td>\n",
       "      <td>-0.036720</td>\n",
       "      <td>-0.029022</td>\n",
       "      <td>-0.028654</td>\n",
       "      <td>-0.039687</td>\n",
       "    </tr>\n",
       "    <tr>\n",
       "      <th>StandardHours</th>\n",
       "      <td>NaN</td>\n",
       "      <td>NaN</td>\n",
       "      <td>NaN</td>\n",
       "      <td>NaN</td>\n",
       "      <td>NaN</td>\n",
       "      <td>NaN</td>\n",
       "      <td>NaN</td>\n",
       "      <td>NaN</td>\n",
       "      <td>NaN</td>\n",
       "      <td>NaN</td>\n",
       "      <td>NaN</td>\n",
       "      <td>NaN</td>\n",
       "      <td>NaN</td>\n",
       "      <td>NaN</td>\n",
       "      <td>NaN</td>\n",
       "      <td>NaN</td>\n",
       "      <td>NaN</td>\n",
       "    </tr>\n",
       "    <tr>\n",
       "      <th>StockOptionLevel</th>\n",
       "      <td>-0.031504</td>\n",
       "      <td>-0.008164</td>\n",
       "      <td>0.009353</td>\n",
       "      <td>0.002386</td>\n",
       "      <td>NaN</td>\n",
       "      <td>-0.013488</td>\n",
       "      <td>0.000365</td>\n",
       "      <td>0.027242</td>\n",
       "      <td>0.016291</td>\n",
       "      <td>0.012104</td>\n",
       "      <td>NaN</td>\n",
       "      <td>1.000000</td>\n",
       "      <td>0.003138</td>\n",
       "      <td>-0.068028</td>\n",
       "      <td>0.009369</td>\n",
       "      <td>0.019889</td>\n",
       "      <td>0.019398</td>\n",
       "    </tr>\n",
       "    <tr>\n",
       "      <th>TotalWorkingYears</th>\n",
       "      <td>0.680037</td>\n",
       "      <td>-0.169670</td>\n",
       "      <td>0.009574</td>\n",
       "      <td>-0.009228</td>\n",
       "      <td>NaN</td>\n",
       "      <td>-0.001688</td>\n",
       "      <td>-0.036293</td>\n",
       "      <td>-0.034398</td>\n",
       "      <td>0.238807</td>\n",
       "      <td>-0.018480</td>\n",
       "      <td>NaN</td>\n",
       "      <td>0.003138</td>\n",
       "      <td>1.000000</td>\n",
       "      <td>-0.041459</td>\n",
       "      <td>0.627738</td>\n",
       "      <td>0.404058</td>\n",
       "      <td>0.458640</td>\n",
       "    </tr>\n",
       "    <tr>\n",
       "      <th>TrainingTimesLastYear</th>\n",
       "      <td>-0.028962</td>\n",
       "      <td>-0.047586</td>\n",
       "      <td>-0.008957</td>\n",
       "      <td>0.009939</td>\n",
       "      <td>NaN</td>\n",
       "      <td>-0.012102</td>\n",
       "      <td>-0.031931</td>\n",
       "      <td>0.049780</td>\n",
       "      <td>-0.031335</td>\n",
       "      <td>-0.036720</td>\n",
       "      <td>NaN</td>\n",
       "      <td>-0.068028</td>\n",
       "      <td>-0.041459</td>\n",
       "      <td>1.000000</td>\n",
       "      <td>-0.010447</td>\n",
       "      <td>0.015340</td>\n",
       "      <td>-0.015792</td>\n",
       "    </tr>\n",
       "    <tr>\n",
       "      <th>YearsAtCompany</th>\n",
       "      <td>0.311281</td>\n",
       "      <td>-0.133003</td>\n",
       "      <td>0.030746</td>\n",
       "      <td>0.005997</td>\n",
       "      <td>NaN</td>\n",
       "      <td>0.004117</td>\n",
       "      <td>-0.063360</td>\n",
       "      <td>0.000088</td>\n",
       "      <td>-0.117213</td>\n",
       "      <td>-0.029022</td>\n",
       "      <td>NaN</td>\n",
       "      <td>0.009369</td>\n",
       "      <td>0.627738</td>\n",
       "      <td>-0.010447</td>\n",
       "      <td>1.000000</td>\n",
       "      <td>0.618722</td>\n",
       "      <td>0.769161</td>\n",
       "    </tr>\n",
       "    <tr>\n",
       "      <th>YearsSinceLastPromotion</th>\n",
       "      <td>0.215650</td>\n",
       "      <td>-0.031423</td>\n",
       "      <td>0.002243</td>\n",
       "      <td>0.023457</td>\n",
       "      <td>NaN</td>\n",
       "      <td>0.000814</td>\n",
       "      <td>-0.059680</td>\n",
       "      <td>0.064470</td>\n",
       "      <td>-0.035855</td>\n",
       "      <td>-0.028654</td>\n",
       "      <td>NaN</td>\n",
       "      <td>0.019889</td>\n",
       "      <td>0.404058</td>\n",
       "      <td>0.015340</td>\n",
       "      <td>0.618722</td>\n",
       "      <td>1.000000</td>\n",
       "      <td>0.510341</td>\n",
       "    </tr>\n",
       "    <tr>\n",
       "      <th>YearsWithCurrManager</th>\n",
       "      <td>0.201580</td>\n",
       "      <td>-0.154692</td>\n",
       "      <td>0.021773</td>\n",
       "      <td>0.005645</td>\n",
       "      <td>NaN</td>\n",
       "      <td>0.009079</td>\n",
       "      <td>-0.053898</td>\n",
       "      <td>0.023095</td>\n",
       "      <td>-0.109372</td>\n",
       "      <td>-0.039687</td>\n",
       "      <td>NaN</td>\n",
       "      <td>0.019398</td>\n",
       "      <td>0.458640</td>\n",
       "      <td>-0.015792</td>\n",
       "      <td>0.769161</td>\n",
       "      <td>0.510341</td>\n",
       "      <td>1.000000</td>\n",
       "    </tr>\n",
       "  </tbody>\n",
       "</table>\n",
       "</div>"
      ],
      "text/plain": [
       "                              Age  Attrition  DistanceFromHome  Education  \\\n",
       "Age                      1.000000  -0.158399          0.007376  -0.033900   \n",
       "Attrition               -0.158399   1.000000         -0.009449  -0.017106   \n",
       "DistanceFromHome         0.007376  -0.009449          1.000000  -0.007491   \n",
       "Education               -0.033900  -0.017106         -0.007491   1.000000   \n",
       "EmployeeCount                 NaN        NaN               NaN        NaN   \n",
       "EmployeeID               0.008105  -0.004621         -0.000326  -0.009389   \n",
       "JobLevel                -0.001137  -0.012382         -0.039990   0.045822   \n",
       "MonthlyIncome           -0.045163  -0.030160         -0.022757   0.007289   \n",
       "NumCompaniesWorked       0.299527   0.042831         -0.014449  -0.016210   \n",
       "PercentSalaryHike       -0.032561   0.033153          0.037720  -0.041054   \n",
       "StandardHours                 NaN        NaN               NaN        NaN   \n",
       "StockOptionLevel        -0.031504  -0.008164          0.009353   0.002386   \n",
       "TotalWorkingYears        0.680037  -0.169670          0.009574  -0.009228   \n",
       "TrainingTimesLastYear   -0.028962  -0.047586         -0.008957   0.009939   \n",
       "YearsAtCompany           0.311281  -0.133003          0.030746   0.005997   \n",
       "YearsSinceLastPromotion  0.215650  -0.031423          0.002243   0.023457   \n",
       "YearsWithCurrManager     0.201580  -0.154692          0.021773   0.005645   \n",
       "\n",
       "                         EmployeeCount  EmployeeID  JobLevel  MonthlyIncome  \\\n",
       "Age                                NaN    0.008105 -0.001137      -0.045163   \n",
       "Attrition                          NaN   -0.004621 -0.012382      -0.030160   \n",
       "DistanceFromHome                   NaN   -0.000326 -0.039990      -0.022757   \n",
       "Education                          NaN   -0.009389  0.045822       0.007289   \n",
       "EmployeeCount                      NaN         NaN       NaN            NaN   \n",
       "EmployeeID                         NaN    1.000000 -0.003090       0.007865   \n",
       "JobLevel                           NaN   -0.003090  1.000000       0.046688   \n",
       "MonthlyIncome                      NaN    0.007865  0.046688       1.000000   \n",
       "NumCompaniesWorked                 NaN    0.000719 -0.009759      -0.021446   \n",
       "PercentSalaryHike                  NaN   -0.004877  0.010874       0.004607   \n",
       "StandardHours                      NaN         NaN       NaN            NaN   \n",
       "StockOptionLevel                   NaN   -0.013488  0.000365       0.027242   \n",
       "TotalWorkingYears                  NaN   -0.001688 -0.036293      -0.034398   \n",
       "TrainingTimesLastYear              NaN   -0.012102 -0.031931       0.049780   \n",
       "YearsAtCompany                     NaN    0.004117 -0.063360       0.000088   \n",
       "YearsSinceLastPromotion            NaN    0.000814 -0.059680       0.064470   \n",
       "YearsWithCurrManager               NaN    0.009079 -0.053898       0.023095   \n",
       "\n",
       "                         NumCompaniesWorked  PercentSalaryHike  StandardHours  \\\n",
       "Age                                0.299527          -0.032561            NaN   \n",
       "Attrition                          0.042831           0.033153            NaN   \n",
       "DistanceFromHome                  -0.014449           0.037720            NaN   \n",
       "Education                         -0.016210          -0.041054            NaN   \n",
       "EmployeeCount                           NaN                NaN            NaN   \n",
       "EmployeeID                         0.000719          -0.004877            NaN   \n",
       "JobLevel                          -0.009759           0.010874            NaN   \n",
       "MonthlyIncome                     -0.021446           0.004607            NaN   \n",
       "NumCompaniesWorked                 1.000000           0.030064            NaN   \n",
       "PercentSalaryHike                  0.030064           1.000000            NaN   \n",
       "StandardHours                           NaN                NaN            NaN   \n",
       "StockOptionLevel                   0.016291           0.012104            NaN   \n",
       "TotalWorkingYears                  0.238807          -0.018480            NaN   \n",
       "TrainingTimesLastYear             -0.031335          -0.036720            NaN   \n",
       "YearsAtCompany                    -0.117213          -0.029022            NaN   \n",
       "YearsSinceLastPromotion           -0.035855          -0.028654            NaN   \n",
       "YearsWithCurrManager              -0.109372          -0.039687            NaN   \n",
       "\n",
       "                         StockOptionLevel  TotalWorkingYears  \\\n",
       "Age                             -0.031504           0.680037   \n",
       "Attrition                       -0.008164          -0.169670   \n",
       "DistanceFromHome                 0.009353           0.009574   \n",
       "Education                        0.002386          -0.009228   \n",
       "EmployeeCount                         NaN                NaN   \n",
       "EmployeeID                      -0.013488          -0.001688   \n",
       "JobLevel                         0.000365          -0.036293   \n",
       "MonthlyIncome                    0.027242          -0.034398   \n",
       "NumCompaniesWorked               0.016291           0.238807   \n",
       "PercentSalaryHike                0.012104          -0.018480   \n",
       "StandardHours                         NaN                NaN   \n",
       "StockOptionLevel                 1.000000           0.003138   \n",
       "TotalWorkingYears                0.003138           1.000000   \n",
       "TrainingTimesLastYear           -0.068028          -0.041459   \n",
       "YearsAtCompany                   0.009369           0.627738   \n",
       "YearsSinceLastPromotion          0.019889           0.404058   \n",
       "YearsWithCurrManager             0.019398           0.458640   \n",
       "\n",
       "                         TrainingTimesLastYear  YearsAtCompany  \\\n",
       "Age                                  -0.028962        0.311281   \n",
       "Attrition                            -0.047586       -0.133003   \n",
       "DistanceFromHome                     -0.008957        0.030746   \n",
       "Education                             0.009939        0.005997   \n",
       "EmployeeCount                              NaN             NaN   \n",
       "EmployeeID                           -0.012102        0.004117   \n",
       "JobLevel                             -0.031931       -0.063360   \n",
       "MonthlyIncome                         0.049780        0.000088   \n",
       "NumCompaniesWorked                   -0.031335       -0.117213   \n",
       "PercentSalaryHike                    -0.036720       -0.029022   \n",
       "StandardHours                              NaN             NaN   \n",
       "StockOptionLevel                     -0.068028        0.009369   \n",
       "TotalWorkingYears                    -0.041459        0.627738   \n",
       "TrainingTimesLastYear                 1.000000       -0.010447   \n",
       "YearsAtCompany                       -0.010447        1.000000   \n",
       "YearsSinceLastPromotion               0.015340        0.618722   \n",
       "YearsWithCurrManager                 -0.015792        0.769161   \n",
       "\n",
       "                         YearsSinceLastPromotion  YearsWithCurrManager  \n",
       "Age                                     0.215650              0.201580  \n",
       "Attrition                              -0.031423             -0.154692  \n",
       "DistanceFromHome                        0.002243              0.021773  \n",
       "Education                               0.023457              0.005645  \n",
       "EmployeeCount                                NaN                   NaN  \n",
       "EmployeeID                              0.000814              0.009079  \n",
       "JobLevel                               -0.059680             -0.053898  \n",
       "MonthlyIncome                           0.064470              0.023095  \n",
       "NumCompaniesWorked                     -0.035855             -0.109372  \n",
       "PercentSalaryHike                      -0.028654             -0.039687  \n",
       "StandardHours                                NaN                   NaN  \n",
       "StockOptionLevel                        0.019889              0.019398  \n",
       "TotalWorkingYears                       0.404058              0.458640  \n",
       "TrainingTimesLastYear                   0.015340             -0.015792  \n",
       "YearsAtCompany                          0.618722              0.769161  \n",
       "YearsSinceLastPromotion                 1.000000              0.510341  \n",
       "YearsWithCurrManager                    0.510341              1.000000  "
      ]
     },
     "execution_count": 76,
     "metadata": {},
     "output_type": "execute_result"
    }
   ],
   "source": [
    "d.corr()"
   ]
  },
  {
   "cell_type": "code",
   "execution_count": null,
   "metadata": {},
   "outputs": [],
   "source": []
  }
 ],
 "metadata": {
  "kernelspec": {
   "display_name": "Python 3",
   "language": "python",
   "name": "python3"
  },
  "language_info": {
   "codemirror_mode": {
    "name": "ipython",
    "version": 3
   },
   "file_extension": ".py",
   "mimetype": "text/x-python",
   "name": "python",
   "nbconvert_exporter": "python",
   "pygments_lexer": "ipython3",
   "version": "3.7.1"
  }
 },
 "nbformat": 4,
 "nbformat_minor": 2
}
