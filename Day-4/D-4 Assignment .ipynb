{
 "cells": [
  {
   "cell_type": "markdown",
   "metadata": {},
   "source": [
    "# Question 1 :\n",
    "Research on whether addition, subtraction, multiplication, division, floor division and modulo\n",
    "operations be performed on complex numbers. Based on your study, implement a Python\n",
    "program to demonstrate these operations."
   ]
  },
  {
   "cell_type": "code",
   "execution_count": 8,
   "metadata": {},
   "outputs": [
    {
     "name": "stdout",
     "output_type": "stream",
     "text": [
      "addition= (12+17j)\n",
      "subtraction= (4+11j)\n",
      "multiplication= (-10+80j)\n",
      "division= (2.96+1.28j)\n"
     ]
    }
   ],
   "source": [
    "a=(8+14j)\n",
    "b=(4+3j)\n",
    "print(\"addition=\",a+b)\n",
    "print(\"subtraction=\",a-b)\n",
    "print(\"multiplication=\",a*b)\n",
    "print(\"division=\",a/b)\n",
    "# floor division= a // b = floor division is not possible for complex no\n",
    "# modulo= a % b          = modulo operation is not possible with complex no"
   ]
  },
  {
   "cell_type": "markdown",
   "metadata": {},
   "source": [
    "# Question 2 :\n",
    "Research on range() functions and its parameters. Create a markdown cell and write in your own\n",
    "words (no copy-paste from google please) what you understand about it. Implement a small\n",
    "program of your choice on the same."
   ]
  },
  {
   "cell_type": "markdown",
   "metadata": {},
   "source": [
    "1. range() is used to return sequence of no in 2 lines and also it is used to traverse through some contents like,list,sets etc\n",
    "2. it consist of 3 parameters range(start,stop,step)\n",
    "3. a) start will be 0 by default \n",
    "\n",
    "   b) stop should be given (required)\n",
    "   \n",
    "   c) step will be 1 by default \n",
    "   "
   ]
  },
  {
   "cell_type": "code",
   "execution_count": 9,
   "metadata": {},
   "outputs": [
    {
     "name": "stdout",
     "output_type": "stream",
     "text": [
      "1\n",
      "3\n",
      "5\n",
      "7\n",
      "9\n"
     ]
    }
   ],
   "source": [
    "for i in range(1,10,2):\n",
    "    print(i)"
   ]
  },
  {
   "cell_type": "markdown",
   "metadata": {},
   "source": [
    "# Question 3:\n",
    "Consider two numbers. Perform their subtraction and if the result of subtraction is greater than\n",
    "25, print their multiplication result else print their division result."
   ]
  },
  {
   "cell_type": "code",
   "execution_count": 12,
   "metadata": {},
   "outputs": [
    {
     "name": "stdout",
     "output_type": "stream",
     "text": [
      "Enter no:-80\n",
      "Enter no:-35\n",
      "45 is greater than 25\n",
      "result= 2800\n"
     ]
    }
   ],
   "source": [
    "a=int(input(\"Enter no:-\"))\n",
    "b=int(input(\"Enter no:-\"))\n",
    "if a-b > 25:\n",
    "    print(a-b,\"is greater than 25\")\n",
    "    print(\"result=\",a*b)\n",
    "else:\n",
    "    print(a-b,\"is lesser than 25\")\n",
    "    print(\"result=\",a/b)"
   ]
  },
  {
   "cell_type": "markdown",
   "metadata": {},
   "source": [
    "# Question 4:\n",
    "Consider a list of 10 elements of integer values. If the number in the list is divisible by 2, print the\n",
    "result as \"square of that number minus 2\"."
   ]
  },
  {
   "cell_type": "code",
   "execution_count": 13,
   "metadata": {},
   "outputs": [
    {
     "name": "stdout",
     "output_type": "stream",
     "text": [
      "square of 2 minus 2 = 2\n",
      "square of 4 minus 2 = 14\n",
      "square of 8 minus 2 = 62\n",
      "square of 6 minus 2 = 34\n",
      "square of 14 minus 2 = 194\n"
     ]
    }
   ],
   "source": [
    "lst=[1,2,4,3,8,5,6,7,9,14]\n",
    "for l in lst:\n",
    "    if l%2==0:\n",
    "        print(\"square of\",l,\"minus 2 =\",l**2-2)"
   ]
  },
  {
   "cell_type": "markdown",
   "metadata": {},
   "source": [
    "# Question 5:\n",
    "Consider a list of 10 elements. Print all the elements in the list which are greater than 7 when that\n",
    "number is divided 2."
   ]
  },
  {
   "cell_type": "code",
   "execution_count": 14,
   "metadata": {},
   "outputs": [
    {
     "name": "stdout",
     "output_type": "stream",
     "text": [
      "54 divided 2 ïs greater than 7\n",
      "21 divided 2 ïs greater than 7\n",
      "18 divided 2 ïs greater than 7\n",
      "89 divided 2 ïs greater than 7\n",
      "42 divided 2 ïs greater than 7\n",
      "111 divided 2 ïs greater than 7\n"
     ]
    }
   ],
   "source": [
    "lst=[2,4,54,21,14,18,89,10,42,111]\n",
    "for l in lst:\n",
    "    if l/2 >7:\n",
    "        print(l,\"divided 2 ïs greater than 7\")"
   ]
  }
 ],
 "metadata": {
  "kernelspec": {
   "display_name": "Python 3",
   "language": "python",
   "name": "python3"
  },
  "language_info": {
   "codemirror_mode": {
    "name": "ipython",
    "version": 3
   },
   "file_extension": ".py",
   "mimetype": "text/x-python",
   "name": "python",
   "nbconvert_exporter": "python",
   "pygments_lexer": "ipython3",
   "version": "3.7.1"
  }
 },
 "nbformat": 4,
 "nbformat_minor": 2
}
