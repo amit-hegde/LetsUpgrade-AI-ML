{
 "cells": [
  {
   "cell_type": "markdown",
   "metadata": {},
   "source": [
    "# Hypothesis-1\n"
   ]
  },
  {
   "cell_type": "markdown",
   "metadata": {},
   "source": [
    " If mean age of the employees is 36 then attrition happened. So taking a sample of 25 employees with standard deviation = 6"
   ]
  },
  {
   "cell_type": "markdown",
   "metadata": {},
   "source": [
    "# Hypothesis-2\n"
   ]
  },
  {
   "cell_type": "markdown",
   "metadata": {},
   "source": [
    "If mean of MaritalStatus is single or Divorced then  attrition happened. So takinng sample employees of 100 average no of them are single or Divorced.  "
   ]
  },
  {
   "cell_type": "markdown",
   "metadata": {},
   "source": [
    "# Hypothesis-3"
   ]
  },
  {
   "cell_type": "markdown",
   "metadata": {},
   "source": [
    "If mean of TotalWorkingYears is 7 then StockOptionLevel becomes less. By taking sample 50 employees with standard deviation = 6.125135\n"
   ]
  },
  {
   "cell_type": "markdown",
   "metadata": {},
   "source": [
    "# Hypothesis-4"
   ]
  },
  {
   "cell_type": "markdown",
   "metadata": {},
   "source": [
    "If mean of StockOptionLevel is  0.793878 then attrition happened."
   ]
  },
  {
   "cell_type": "markdown",
   "metadata": {},
   "source": [
    "# Hypothesis-5"
   ]
  },
  {
   "cell_type": "markdown",
   "metadata": {},
   "source": [
    "If mean of YearsWithCurrManager is 4 then the StockOptionLevel becomes less.By taking sample 50 employees with standard deviation =3.567327"
   ]
  },
  {
   "cell_type": "markdown",
   "metadata": {},
   "source": [
    "# Hypothesis-6"
   ]
  },
  {
   "cell_type": "markdown",
   "metadata": {},
   "source": [
    "if the mean of MonthlyIncome is 65029 then  NumCompaniesWorked is less.By taking sample 50 employees with standard deviation =2.4"
   ]
  },
  {
   "cell_type": "markdown",
   "metadata": {},
   "source": [
    "# Hypothesis-7"
   ]
  },
  {
   "cell_type": "markdown",
   "metadata": {},
   "source": [
    "If the mean of JobLevel is 2 then the YearsSinceLastPromotion becomes less."
   ]
  },
  {
   "cell_type": "markdown",
   "metadata": {},
   "source": [
    "# Hypothesis-8"
   ]
  },
  {
   "cell_type": "markdown",
   "metadata": {},
   "source": [
    "If the mean of JobLevel is 2 then attrition happened.So taking a sample of 25 employees with  standard deviation = 1.1"
   ]
  },
  {
   "cell_type": "markdown",
   "metadata": {},
   "source": [
    "# Hypothesis-9"
   ]
  },
  {
   "cell_type": "markdown",
   "metadata": {},
   "source": [
    "if the max of age is 60 then Joblevel will be high."
   ]
  },
  {
   "cell_type": "markdown",
   "metadata": {},
   "source": [
    "# Hypothesis-10"
   ]
  },
  {
   "cell_type": "markdown",
   "metadata": {},
   "source": [
    " if mean of PercentSalaryHike is 15 then attrition happened."
   ]
  },
  {
   "cell_type": "code",
   "execution_count": null,
   "metadata": {},
   "outputs": [],
   "source": []
  }
 ],
 "metadata": {
  "kernelspec": {
   "display_name": "Python 3",
   "language": "python",
   "name": "python3"
  },
  "language_info": {
   "codemirror_mode": {
    "name": "ipython",
    "version": 3
   },
   "file_extension": ".py",
   "mimetype": "text/x-python",
   "name": "python",
   "nbconvert_exporter": "python",
   "pygments_lexer": "ipython3",
   "version": "3.7.1"
  }
 },
 "nbformat": 4,
 "nbformat_minor": 2
}
