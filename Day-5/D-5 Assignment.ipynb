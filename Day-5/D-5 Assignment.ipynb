{
 "cells": [
  {
   "cell_type": "markdown",
   "metadata": {},
   "source": [
    "# Question 1 :\n",
    "Write a Python program to find the first 20 non-even prime natural numbers."
   ]
  },
  {
   "cell_type": "code",
   "execution_count": 2,
   "metadata": {},
   "outputs": [
    {
     "name": "stdout",
     "output_type": "stream",
     "text": [
      "First 20 non-even prime no are: 3 5 7 11 13 17 19 23 29 31 37 41 43 47 53 59 61 67 71 73 "
     ]
    }
   ],
   "source": [
    "p=2\n",
    "n=0\n",
    "print(\"First 20 non-even prime no are:\",end=' ')\n",
    "while True:\n",
    "    if n==20:\n",
    "        break \n",
    "    if p%2!=0 :\n",
    "        f=1\n",
    "        for i in range(2,p-1):\n",
    "            if p%i==0:\n",
    "                f=0\n",
    "                break\n",
    "        if f==1:        \n",
    "            print(p,end=\" \")\n",
    "            n+=1 \n",
    "    p+=1        "
   ]
  },
  {
   "cell_type": "markdown",
   "metadata": {},
   "source": [
    "# Question 2 :\n",
    "Write a Python program to implement 15 functions of string."
   ]
  },
  {
   "cell_type": "code",
   "execution_count": 31,
   "metadata": {},
   "outputs": [
    {
     "name": "stdout",
     "output_type": "stream",
     "text": [
      "I love AIML program of letsupgrade!\n",
      "capitalize: I love aiml program of letsupgrade!\n",
      "count of a: 2\n",
      "find the postion of a: 17\n",
      "index of a: 17\n",
      "isalpha: False\n",
      "isalnum: False\n",
      "isnumaric: False\n",
      "islower: False\n",
      "isupper: False\n",
      "upper: I LOVE AIML PROGRAM OF LETSUPGRADE!\n",
      "lower: i love aiml program of letsupgrade!\n",
      "Endswith !: True\n",
      "title: I Love Aiml Program Of Letsupgrade!\n",
      "replace: I love AIML program of letsupgrade.\n",
      "split: ['I', 'love', 'AIML', 'program', 'of', 'letsupgrade!']\n",
      "swap: i LOVE aiml PROGRAM OF LETSUPGRADE!\n",
      "Join: I   l o v e   A I M L   p r o g r a m   o f   l e t s u p g r a d e !\n"
     ]
    }
   ],
   "source": [
    "s=\"I love AIML program of letsupgrade!\"\n",
    "print(s)\n",
    "print(\"capitalize:\",s.capitalize())\n",
    "print(\"count of a:\",s.count(\"a\"))\n",
    "print(\"find the postion of a:\",s.find(\"a\"))\n",
    "print(\"index of a:\",s.index(\"a\"))\n",
    "print(\"isalpha:\",s.isalpha())\n",
    "print(\"isalnum:\",s.isalnum())\n",
    "print(\"isnumaric:\",s.isnumeric())\n",
    "print(\"islower:\",s.islower())\n",
    "print(\"isupper:\",s.isupper())\n",
    "print(\"upper:\",s.upper())\n",
    "print(\"lower:\",s.lower())\n",
    "print(\"Endswith !:\",s.endswith('!'))\n",
    "print(\"title:\",s.title())\n",
    "print(\"replace:\",s.replace('!','.'))\n",
    "print(\"split:\",s.split())\n",
    "print(\"swap:\",s.swapcase())\n",
    "print(\"Join:\",' '.join(s))"
   ]
  },
  {
   "cell_type": "markdown",
   "metadata": {},
   "source": [
    "# Question 3:\n",
    "Write a Python program to check if the given string is a Palindrome or Anagram or None of them.\n",
    "Display the message accordingly to the user."
   ]
  },
  {
   "cell_type": "code",
   "execution_count": 47,
   "metadata": {},
   "outputs": [
    {
     "name": "stdout",
     "output_type": "stream",
     "text": [
      "dad is palindrome\n",
      "dad & add is Anagram\n"
     ]
    }
   ],
   "source": [
    "s1=\"dad\"\n",
    "s2=\"add\"\n",
    "f1=f2=True\n",
    "if s1==s1[::-1]:\n",
    "    print(s1,\"is palindrome\")\n",
    "    f1=True\n",
    "else:\n",
    "    f1=False\n",
    "if sorted(s1)==sorted(s2):\n",
    "    print(s1,'&',s2,\"is Anagram\")\n",
    "    f2=True\n",
    "else:\n",
    "    f2=False\n",
    "if f1==False and f2==False:    \n",
    "    print(\"It is not Palindrome nor Anagram\")\n",
    "elif f1==False:\n",
    "    print(s1,\"is palindrome\")\n",
    "elif f2==False:\n",
    "    print(s1,'&',s2,\"is not Anagram\")\n"
   ]
  },
  {
   "cell_type": "markdown",
   "metadata": {},
   "source": [
    "# Question 4:\n",
    "Write a Python's user defined function that removes all the additional characters from the string\n",
    "and converts it finally to lower case using built-in lower(). eg: If the string is \"Dr. Darshan Ingle\n",
    "@AI-ML Trainer\", then the output be \"drdarshaningle aimltrainer\"."
   ]
  },
  {
   "cell_type": "code",
   "execution_count": 48,
   "metadata": {},
   "outputs": [
    {
     "name": "stdout",
     "output_type": "stream",
     "text": [
      "Enter string:Dr. Darshan Ingle @AI-ML Trainer\n",
      "drdarshaningleaimltrainer\n"
     ]
    }
   ],
   "source": [
    "def clear(s):\n",
    "    a=\"\"\n",
    "    for c in s:\n",
    "        if c.isalpha():\n",
    "            a+=c\n",
    "    return a.lower()        \n",
    "s=input(\"Enter string:\")\n",
    "print(clear(s))\n",
    "        "
   ]
  },
  {
   "cell_type": "code",
   "execution_count": null,
   "metadata": {},
   "outputs": [],
   "source": []
  }
 ],
 "metadata": {
  "kernelspec": {
   "display_name": "Python 3",
   "language": "python",
   "name": "python3"
  },
  "language_info": {
   "codemirror_mode": {
    "name": "ipython",
    "version": 3
   },
   "file_extension": ".py",
   "mimetype": "text/x-python",
   "name": "python",
   "nbconvert_exporter": "python",
   "pygments_lexer": "ipython3",
   "version": "3.7.1"
  }
 },
 "nbformat": 4,
 "nbformat_minor": 2
}
